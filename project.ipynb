{
 "cells": [
  {
   "cell_type": "code",
   "execution_count": 2,
   "metadata": {
    "collapsed": true
   },
   "outputs": [],
   "source": [
    "import os\n",
    "import findspark\n",
    "findspark.init('/usr/lib/spark/')"
   ]
  },
  {
   "cell_type": "code",
   "execution_count": 3,
   "metadata": {
    "collapsed": true
   },
   "outputs": [],
   "source": [
    "import pandas as pd\n",
    "import numpy as np\n",
    "import matplotlib.pyplot as plot\n",
    "import pyspark\n",
    "sc = pyspark.SparkContext.getOrCreate()\n",
    "from pyspark import SQLContext\n",
    "sql = SQLContext(sc)"
   ]
  },
  {
   "cell_type": "code",
   "execution_count": 4,
   "metadata": {
    "collapsed": true
   },
   "outputs": [],
   "source": [
    "#Load all the required Datasets\n",
    "#Reference: https://gist.github.com/nicor88/7f935d1a7636121f94e83bc68a9c744b for specifying the file path to read the csv file\n",
    "\n",
    "airlines_data = sql.read.csv('s3://hemuawsbucket/notebooks/airlines/airlines.csv', header = True)\n",
    "data1 = sql.read.csv('s3://hemuawsbucket/notebooks/2015_flight_data.csv', header = True)\n",
    "data2 = sql.read.csv('s3://hemuawsbucket/notebooks/2016_flight_data.csv', header = True)\n",
    "data3 = sql.read.csv('s3://hemuawsbucket/notebooks/2017_flight_data.csv', header = True)"
   ]
  },
  {
   "cell_type": "code",
   "execution_count": 5,
   "metadata": {
    "collapsed": true
   },
   "outputs": [],
   "source": [
    "#merge all the data sets in to one dataframe\n",
    "\n",
    "flights_data = data1.unionAll(data2)\n",
    "flights_data = flights_data.unionAll(data3)"
   ]
  },
  {
   "cell_type": "code",
   "execution_count": 6,
   "metadata": {
    "collapsed": true
   },
   "outputs": [],
   "source": [
    "#Clean data by replacing CANCELLATION_CODE abbrevation\n",
    "\n",
    "from pyspark.sql.functions import when\n",
    "\n",
    "flights_data = flights_data.withColumn(\"CANCELLATION_CODE\", when(flights_data[\"CANCELLATION_CODE\"] == 'A', 'Carrier').otherwise(flights_data[\"CANCELLATION_CODE\"]))\n",
    "flights_data = flights_data.withColumn(\"CANCELLATION_CODE\", when(flights_data[\"CANCELLATION_CODE\"] == 'B', 'Weather').otherwise(flights_data[\"CANCELLATION_CODE\"]))\n",
    "flights_data = flights_data.withColumn(\"CANCELLATION_CODE\", when(flights_data[\"CANCELLATION_CODE\"] == 'C', 'National Air System').otherwise(flights_data[\"CANCELLATION_CODE\"]))\n",
    "flights_data = flights_data.withColumn(\"CANCELLATION_CODE\", when(flights_data[\"CANCELLATION_CODE\"] == 'D', 'Security').otherwise(flights_data[\"CANCELLATION_CODE\"]))"
   ]
  },
  {
   "cell_type": "code",
   "execution_count": 7,
   "metadata": {},
   "outputs": [
    {
     "name": "stdout",
     "output_type": "stream",
     "text": [
      "+-------+-------------+\n",
      "|CARRIER|total_flights|\n",
      "+-------+-------------+\n",
      "|     UA|      1499734|\n",
      "|     NK|       373314|\n",
      "|     AA|      2323492|\n",
      "|     EV|      1340779|\n",
      "|     B6|       776217|\n",
      "|     DL|      2507114|\n",
      "|     OO|      1719476|\n",
      "|     F9|       260844|\n",
      "|CARRIER|           30|\n",
      "|     US|       198715|\n",
      "|     MQ|       294632|\n",
      "|     HA|       213815|\n",
      "|     AS|       491800|\n",
      "|     VX|       183497|\n",
      "|     WN|      3563223|\n",
      "+-------+-------------+\n",
      "\n"
     ]
    }
   ],
   "source": [
    "#Find the total number of flights\n",
    "\n",
    "Total_flights = flights_data.groupBy('CARRIER').count()\n",
    "Total_flights = Total_flights.selectExpr(\"CARRIER as CARRIER\", \"count as total_flights\")\n",
    "Total_flights.show()"
   ]
  },
  {
   "cell_type": "code",
   "execution_count": 8,
   "metadata": {
    "collapsed": true
   },
   "outputs": [],
   "source": [
    "# 1a.Calculate the number of Operated flights for each Airline\n",
    "\n",
    "import pyspark.sql.functions as func\n",
    "scheduled_flights = flights_data.groupby(flights_data.CARRIER).agg(func.count('CRS_DEP_TIME'))"
   ]
  },
  {
   "cell_type": "code",
   "execution_count": 9,
   "metadata": {},
   "outputs": [
    {
     "name": "stdout",
     "output_type": "stream",
     "text": [
      "+-------+-----------------+\n",
      "|CARRIER|Cancelled_Flights|\n",
      "+-------+-----------------+\n",
      "|     UA|            17463|\n",
      "|     NK|             9364|\n",
      "|     AA|            34033|\n",
      "|     EV|            36824|\n",
      "|     B6|            15747|\n",
      "|     DL|            16411|\n",
      "|     OO|            25277|\n",
      "|     F9|             2064|\n",
      "|     US|             4067|\n",
      "|     MQ|            15025|\n",
      "|     HA|              456|\n",
      "|     AS|             2424|\n",
      "|     VX|             1955|\n",
      "|     WN|            46505|\n",
      "+-------+-----------------+\n",
      "\n"
     ]
    }
   ],
   "source": [
    "cancelled_data = flights_data[flights_data['CANCELLED']==1]\n",
    "cancelled_flights = cancelled_data.groupby(cancelled_data.CARRIER).count()\n",
    "cancelled_flights = cancelled_flights.selectExpr(\"CARRIER as CARRIER\", \"count as Cancelled_Flights\")\n",
    "cancelled_flights.show()"
   ]
  },
  {
   "cell_type": "code",
   "execution_count": 10,
   "metadata": {},
   "outputs": [
    {
     "name": "stdout",
     "output_type": "stream",
     "text": [
      "+-------+----------------+\n",
      "|CARRIER|OPERATED_FLIGHTS|\n",
      "+-------+----------------+\n",
      "|     UA|         1482271|\n",
      "|     NK|          363950|\n",
      "|     AA|         2289459|\n",
      "|     EV|         1303955|\n",
      "|     B6|          760470|\n",
      "|     DL|         2490703|\n",
      "|     OO|         1694199|\n",
      "|     F9|          258780|\n",
      "|     US|          194648|\n",
      "|     MQ|          279607|\n",
      "|     HA|          213359|\n",
      "|     AS|          489376|\n",
      "|     VX|          181542|\n",
      "|     WN|         3516718|\n",
      "+-------+----------------+\n",
      "\n"
     ]
    }
   ],
   "source": [
    "operated_flights = scheduled_flights.join(cancelled_flights, scheduled_flights.CARRIER == cancelled_flights.CARRIER).drop(cancelled_flights.CARRIER)\n",
    "dif = operated_flights['count(CRS_DEP_TIME)'] - operated_flights['Cancelled_Flights']\n",
    "operated_flights = operated_flights.withColumn('OPERATED_FLIGHTS', dif).select(['CARRIER', 'OPERATED_FLIGHTS'])\n",
    "operated_flights.show()"
   ]
  },
  {
   "cell_type": "code",
   "execution_count": 11,
   "metadata": {},
   "outputs": [
    {
     "name": "stdout",
     "output_type": "stream",
     "text": [
      "+-------+-------------------+-----+\n",
      "|CARRIER|  CANCELLATION_CODE|count|\n",
      "+-------+-------------------+-----+\n",
      "|     HA|            Carrier|  438|\n",
      "|     OO|National Air System| 3023|\n",
      "|     EV|            Carrier| 7526|\n",
      "|     VX|            Carrier|  610|\n",
      "|     AS|            Carrier| 1143|\n",
      "|     MQ|           Security|    1|\n",
      "|     WN|National Air System| 4591|\n",
      "|     F9|            Weather| 1387|\n",
      "|     MQ|            Carrier| 2475|\n",
      "|     UA|            Weather|10651|\n",
      "|     AA|National Air System| 2904|\n",
      "|     OO|            Carrier| 4053|\n",
      "|     HA|            Weather|   18|\n",
      "|     B6|            Weather| 8206|\n",
      "|     VX|National Air System| 1321|\n",
      "|     EV|National Air System|17114|\n",
      "|     AA|            Weather|21622|\n",
      "|     AA|            Carrier| 9456|\n",
      "|     DL|National Air System|  591|\n",
      "|     F9|            Carrier|  677|\n",
      "+-------+-------------------+-----+\n",
      "only showing top 20 rows\n",
      "\n"
     ]
    }
   ],
   "source": [
    "# 1b.Calculate the number of cancelled flights caused by each reason for each airline\n",
    "\n",
    "cancelled_data.groupby(cancelled_data.CARRIER, cancelled_data.CANCELLATION_CODE).count().show()"
   ]
  },
  {
   "cell_type": "code",
   "execution_count": 12,
   "metadata": {
    "collapsed": true
   },
   "outputs": [],
   "source": [
    "# 2.Which is the most operated flight(according to TAIL_NUM) in these three years? Print the top ten results\n",
    "\n",
    "x = flights_data[flights_data[\"TAIL_NUM\"] != \"null\"]\n",
    "total = x.groupBy(x.TAIL_NUM).count()\n",
    "y = total.selectExpr(\"TAIL_NUM as TAIL_NUM\", \"count as total\")\n",
    "\n",
    "cancelled = x[x[\"CANCELLED\"] == 1]\n",
    "cancel = cancelled.groupBy(cancelled.TAIL_NUM).count()\n",
    "w = cancel.selectExpr(\"TAIL_NUM as TAIL_NUM\", \"count as cancelled_flight\")"
   ]
  },
  {
   "cell_type": "code",
   "execution_count": 13,
   "metadata": {},
   "outputs": [
    {
     "data": {
      "text/plain": [
       "[Row(TAIL_NUM='N493HA', operated_count=9810),\n",
       " Row(TAIL_NUM='N484HA', operated_count=9772),\n",
       " Row(TAIL_NUM='N492HA', operated_count=9768),\n",
       " Row(TAIL_NUM='N477HA', operated_count=9744),\n",
       " Row(TAIL_NUM='N480HA', operated_count=9669),\n",
       " Row(TAIL_NUM='N489HA', operated_count=9356),\n",
       " Row(TAIL_NUM='N481HA', operated_count=9325),\n",
       " Row(TAIL_NUM='N478HA', operated_count=9271),\n",
       " Row(TAIL_NUM='N476HA', operated_count=9220),\n",
       " Row(TAIL_NUM='N486HA', operated_count=9112)]"
      ]
     },
     "execution_count": 13,
     "metadata": {},
     "output_type": "execute_result"
    }
   ],
   "source": [
    "c = y.join(w, y.TAIL_NUM == w.TAIL_NUM).drop(w.TAIL_NUM)\n",
    "most_operated = c['total'] - c['cancelled_flight']\n",
    "most_operated_fl = c.withColumn('operated_count', most_operated).select(['TAIL_NUM', 'operated_count'])\n",
    "most_operated_fl.sort('operated_count', ascending = False).head(10)"
   ]
  },
  {
   "cell_type": "code",
   "execution_count": 14,
   "metadata": {},
   "outputs": [
    {
     "name": "stdout",
     "output_type": "stream",
     "text": [
      "+-------+----------------+\n",
      "|CARRIER|Diverted_Flights|\n",
      "+-------+----------------+\n",
      "|     UA|            3954|\n",
      "|     NK|             551|\n",
      "|     AA|            6181|\n",
      "|     EV|            4493|\n",
      "|     B6|            1930|\n",
      "|     DL|            5014|\n",
      "|     OO|            4909|\n",
      "|     F9|             419|\n",
      "|     US|             425|\n",
      "|     MQ|             816|\n",
      "|     HA|             190|\n",
      "|     AS|            1218|\n",
      "|     VX|             424|\n",
      "|     WN|            8681|\n",
      "+-------+----------------+\n",
      "\n"
     ]
    }
   ],
   "source": [
    "# 2.Predict which airline is better suited for travelling to avoid the cancellation of trip.\n",
    "\n",
    "diverted_data = flights_data[flights_data['DIVERTED']==1]\n",
    "diverted_flights = diverted_data.groupBy(diverted_data.CARRIER).count()\n",
    "diverted_flights = diverted_flights.selectExpr(\"CARRIER as CARRIER\", \"count as Diverted_Flights\")\n",
    "diverted_flights.show()"
   ]
  },
  {
   "cell_type": "code",
   "execution_count": 15,
   "metadata": {},
   "outputs": [
    {
     "name": "stdout",
     "output_type": "stream",
     "text": [
      "+-------+-------------+-----------------+----------------+\n",
      "|CARRIER|total_flights|Cancelled_Flights|Diverted_Flights|\n",
      "+-------+-------------+-----------------+----------------+\n",
      "|     UA|      1499734|            17463|            3954|\n",
      "|     NK|       373314|             9364|             551|\n",
      "|     AA|      2323492|            34033|            6181|\n",
      "|     EV|      1340779|            36824|            4493|\n",
      "|     B6|       776217|            15747|            1930|\n",
      "|     DL|      2507114|            16411|            5014|\n",
      "|     OO|      1719476|            25277|            4909|\n",
      "|     F9|       260844|             2064|             419|\n",
      "|     US|       198715|             4067|             425|\n",
      "|     MQ|       294632|            15025|             816|\n",
      "|     HA|       213815|              456|             190|\n",
      "|     AS|       491800|             2424|            1218|\n",
      "|     VX|       183497|             1955|             424|\n",
      "|     WN|      3563223|            46505|            8681|\n",
      "+-------+-------------+-----------------+----------------+\n",
      "\n"
     ]
    }
   ],
   "source": [
    "a = Total_flights.join(cancelled_flights, Total_flights.CARRIER == cancelled_flights.CARRIER).drop(cancelled_flights.CARRIER)\n",
    "a = a.join(diverted_flights,a.CARRIER == diverted_flights.CARRIER).drop(diverted_flights.CARRIER)\n",
    "a.show()"
   ]
  },
  {
   "cell_type": "code",
   "execution_count": 16,
   "metadata": {
    "collapsed": true
   },
   "outputs": [],
   "source": [
    "cancellation_rate = (a.Cancelled_Flights / a.total_flights)\n",
    "a = a.withColumn(\"Cancellation_Rate\", cancellation_rate)"
   ]
  },
  {
   "cell_type": "code",
   "execution_count": 17,
   "metadata": {},
   "outputs": [
    {
     "name": "stdout",
     "output_type": "stream",
     "text": [
      "+-------+-------------+-----------------+----------------+--------------------+--------------------+\n",
      "|CARRIER|total_flights|Cancelled_Flights|Diverted_Flights|   Cancellation_Rate|      Divertion_Rate|\n",
      "+-------+-------------+-----------------+----------------+--------------------+--------------------+\n",
      "|     UA|      1499734|            17463|            3954|0.011644064880838868|0.002636467533575...|\n",
      "|     NK|       373314|             9364|             551|0.025083441821094305|0.001475969291266...|\n",
      "|     AA|      2323492|            34033|            6181|0.014647349764922797|0.002660220048100015|\n",
      "|     EV|      1340779|            36824|            4493|0.027464630636368857| 0.00335103697179028|\n",
      "|     B6|       776217|            15747|            1930|0.020286852774417462|0.002486418102154423|\n",
      "|     DL|      2507114|            16411|            5014|0.006545773347362745|0.001999909058782329|\n",
      "|     OO|      1719476|            25277|            4909| 0.01470040872917098|0.002854939528088...|\n",
      "|     F9|       260844|             2064|             419|0.007912775451994295|0.001606324086427...|\n",
      "|     US|       198715|             4067|             425|0.020466497244797825|0.002138741413582266|\n",
      "|     MQ|       294632|            15025|             816| 0.05099581851258519|0.002769556599418936|\n",
      "|     HA|       213815|              456|             190|0.002132684797605...|8.886186656689194E-4|\n",
      "|     AS|       491800|             2424|            1218|0.004928832858885726|0.002476616510776...|\n",
      "|     VX|       183497|             1955|             424|0.010654125135560799|0.002310664479528...|\n",
      "|     WN|      3563223|            46505|            8681|0.013051386343206697|0.002436277493718...|\n",
      "+-------+-------------+-----------------+----------------+--------------------+--------------------+\n",
      "\n"
     ]
    }
   ],
   "source": [
    "divertion_rate = (a.Diverted_Flights / a.total_flights)\n",
    "a = a.withColumn(\"Divertion_Rate\", divertion_rate)\n",
    "a.show()"
   ]
  },
  {
   "cell_type": "code",
   "execution_count": 18,
   "metadata": {},
   "outputs": [
    {
     "name": "stdout",
     "output_type": "stream",
     "text": [
      "+-------+-----------------------------------------+\n",
      "|CARRIER|sum((Cancellation_Rate + Divertion_Rate))|\n",
      "+-------+-----------------------------------------+\n",
      "|     HA|                     0.003021303463274...|\n",
      "|     AS|                     0.007405449369662464|\n",
      "|     DL|                     0.008545682406145075|\n",
      "|     F9|                     0.009519099538421432|\n",
      "|     VX|                     0.012964789615089074|\n",
      "|     UA|                     0.014280532414414822|\n",
      "|     WN|                     0.015487663836925165|\n",
      "|     AA|                      0.01730756981302281|\n",
      "|     OO|                      0.01755534825725977|\n",
      "|     US|                      0.02260523865838009|\n",
      "|     B6|                     0.022773270876571886|\n",
      "|     NK|                     0.026559411112361174|\n",
      "|     EV|                      0.03081566760815914|\n",
      "|     MQ|                     0.053765375112004125|\n",
      "+-------+-----------------------------------------+\n",
      "\n"
     ]
    }
   ],
   "source": [
    "from pyspark.sql import functions as F\n",
    "best_airline = a.groupBy(\"CARRIER\").agg(F.sum(a.Cancellation_Rate + a.Divertion_Rate))\n",
    "ba = best_airline.sort(\"sum((Cancellation_Rate + Divertion_Rate))\", ascending=True)\n",
    "ba.show()"
   ]
  },
  {
   "cell_type": "code",
   "execution_count": 19,
   "metadata": {},
   "outputs": [
    {
     "name": "stdout",
     "output_type": "stream",
     "text": [
      "Row(CARRIER='HA')\n"
     ]
    }
   ],
   "source": [
    "print(ba.select(\"CARRIER\").head())"
   ]
  },
  {
   "cell_type": "code",
   "execution_count": 20,
   "metadata": {},
   "outputs": [
    {
     "name": "stdout",
     "output_type": "stream",
     "text": [
      "+--------------------+\n",
      "|             AIRLINE|\n",
      "+--------------------+\n",
      "|Hawaiian Airlines...|\n",
      "+--------------------+\n",
      "\n"
     ]
    }
   ],
   "source": [
    "a = airlines_data[airlines_data['IATA_CODE'] == \"HA\"]\n",
    "a.select('AIRLINE').show()\n",
    "\n",
    "#The best airline to choose while travelling to avoid your cancellation of trip is the following:"
   ]
  },
  {
   "cell_type": "code",
   "execution_count": 21,
   "metadata": {
    "collapsed": true
   },
   "outputs": [],
   "source": [
    "# 3.Plot a graph to depict the duration of departure delay and arrival delay for each airlines\n",
    "\n",
    "dep_delay = pyspark.sql.functions.abs(flights_data['DEP_TIME'] - flights_data['CRS_DEP_TIME'])\n",
    "dep_delay_df = flights_data.withColumn(\"Departure_Delay\", dep_delay)\n",
    "\n",
    "arr_delay = pyspark.sql.functions.abs(flights_data['ARR_TIME'] - flights_data['CRS_ARR_TIME'])\n",
    "arr_delay_df = flights_data.withColumn(\"Arrival_Delay\", arr_delay)"
   ]
  },
  {
   "cell_type": "code",
   "execution_count": 22,
   "metadata": {
    "collapsed": true
   },
   "outputs": [],
   "source": [
    "dep_delay_df = dep_delay_df[dep_delay_df['CARRIER'] != 'CARRIER']\n",
    "avg_dep_delay = dep_delay_df.groupBy('CARRIER').agg({'Departure_Delay': 'mean'})"
   ]
  },
  {
   "cell_type": "code",
   "execution_count": 23,
   "metadata": {
    "collapsed": true
   },
   "outputs": [],
   "source": [
    "arr_delay_df = arr_delay_df[arr_delay_df['CARRIER'] != 'CARRIER']\n",
    "avg_arr_delay = arr_delay_df.groupBy('CARRIER').agg({'Arrival_Delay': 'mean'})"
   ]
  },
  {
   "cell_type": "code",
   "execution_count": 24,
   "metadata": {},
   "outputs": [
    {
     "name": "stdout",
     "output_type": "stream",
     "text": [
      "+--------------------+-------+------------------+\n",
      "|avg(Departure_Delay)|CARRIER|avg(Arrival_Delay)|\n",
      "+--------------------+-------+------------------+\n",
      "|   40.27333358506953|     UA| 76.56233242384712|\n",
      "|  54.286952439519894|     NK|104.76365535248041|\n",
      "|    33.0400251043432|     AA| 72.04880270561574|\n",
      "|   32.75411707557766|     EV| 53.74716552331073|\n",
      "|   68.24291056793012|     B6|102.10670514741379|\n",
      "|  30.273822125931876|     DL| 61.22597216745782|\n",
      "|   30.95717833328517|     OO| 53.14441759401081|\n",
      "|  63.042045371146486|     F9| 90.32670871790116|\n",
      "|   27.19920441421789|     US| 61.25196571181894|\n",
      "|  29.794171584332922|     MQ| 60.15883706532203|\n",
      "|  15.650533477655792|     HA| 23.77572734985446|\n",
      "|  28.231529880852438|     AS|56.696366403344776|\n",
      "|   35.39286599232417|     VX| 70.49417992915654|\n",
      "|  25.784432138728718|     WN|62.297722291512095|\n",
      "+--------------------+-------+------------------+\n",
      "\n"
     ]
    }
   ],
   "source": [
    "delay = avg_dep_delay.join(avg_arr_delay, avg_dep_delay.CARRIER == avg_arr_delay.CARRIER).drop(avg_dep_delay.CARRIER)\n",
    "delay.show()"
   ]
  },
  {
   "cell_type": "code",
   "execution_count": 25,
   "metadata": {},
   "outputs": [
    {
     "name": "stderr",
     "output_type": "stream",
     "text": [
      "/usr/local/lib64/python3.4/site-packages/pandas/plotting/_core.py:1716: UserWarning: Pandas doesn't allow columns to be created via a new attribute name - see https://pandas.pydata.org/pandas-docs/stable/indexing.html#attribute-access\n",
      "  series.name = label\n"
     ]
    },
    {
     "data": {
      "text/plain": [
       "<matplotlib.axes._subplots.AxesSubplot at 0x7f64d1656208>"
      ]
     },
     "execution_count": 25,
     "metadata": {},
     "output_type": "execute_result"
    },
    {
     "data": {
      "image/png": "[encoded data removed]",
      "text/plain": [
       "<matplotlib.figure.Figure at 0x7f64d150ff60>"
      ]
     },
     "metadata": {},
     "output_type": "display_data"
    }
   ],
   "source": [
    "pandas_df = delay.toPandas()\n",
    "pandas_df.plot(x=\"CARRIER\", y=[\"avg(Departure_Delay)\", \"avg(Arrival_Delay)\"], kind=\"bar\")"
   ]
  },
  {
   "cell_type": "code",
   "execution_count": null,
   "metadata": {
    "collapsed": true
   },
   "outputs": [],
   "source": []
  }
 ],
 "metadata": {
  "kernelspec": {
   "display_name": "Python 3",
   "language": "python",
   "name": "python3"
  },
  "language_info": {
   "codemirror_mode": {
    "name": "ipython",
    "version": 3
   },
   "file_extension": ".py",
   "mimetype": "text/x-python",
   "name": "python",
   "nbconvert_exporter": "python",
   "pygments_lexer": "ipython3",
   "version": "3.5.4"
  }
 },
 "nbformat": 4,
 "nbformat_minor": 2
}
